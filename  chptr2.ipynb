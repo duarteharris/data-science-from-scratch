{
 "cells": [
  {
   "cell_type": "code",
   "execution_count": null,
   "metadata": {},
   "outputs": [],
   "source": []
  },
  {
   "cell_type": "code",
   "execution_count": 6,
   "metadata": {},
   "outputs": [],
   "source": [
    "\"\"\"\n",
    "Trying to count the letters in a doc. One approach would be creating a dictionary in which \n",
    "keys are letters and the values are counts. Checking each letter, we'd increment its count if\n",
    "it's already in the dict, and add it if it's not.\n",
    "\"\"\"\n",
    "\n",
    "# example doc\n",
    "document = \"What am I saying when I say that I say too much?\"\n",
    "letter_counts = {}"
   ]
  },
  {
   "cell_type": "code",
   "execution_count": 7,
   "metadata": {},
   "outputs": [],
   "source": [
    "for letter in document:\n",
    "    if letter in letter_counts:\n",
    "        letter_counts[letter] += 1\n",
    "\n",
    "    else:\n",
    "        letter_counts[letter] = 1"
   ]
  },
  {
   "cell_type": "code",
   "execution_count": 8,
   "metadata": {},
   "outputs": [
    {
     "data": {
      "text/plain": [
       "{'W': 1,\n",
       " 'h': 4,\n",
       " 'a': 6,\n",
       " 't': 4,\n",
       " ' ': 11,\n",
       " 'm': 2,\n",
       " 'I': 3,\n",
       " 's': 3,\n",
       " 'y': 3,\n",
       " 'i': 1,\n",
       " 'n': 2,\n",
       " 'g': 1,\n",
       " 'w': 1,\n",
       " 'e': 1,\n",
       " 'o': 2,\n",
       " 'u': 1,\n",
       " 'c': 1,\n",
       " '?': 1}"
      ]
     },
     "execution_count": 8,
     "metadata": {},
     "output_type": "execute_result"
    }
   ],
   "source": [
    "letter_counts"
   ]
  },
  {
   "cell_type": "code",
   "execution_count": null,
   "metadata": {},
   "outputs": [],
   "source": [
    "# 'Forgiveness better than permission' approach (just handle the exception):\n",
    "letter_counts = {}\n",
    "\n",
    "for letter in doc"
   ]
  }
 ],
 "metadata": {
  "kernelspec": {
   "display_name": "Python 3",
   "language": "python",
   "name": "python3"
  },
  "language_info": {
   "codemirror_mode": {
    "name": "ipython",
    "version": 3
   },
   "file_extension": ".py",
   "mimetype": "text/x-python",
   "name": "python",
   "nbconvert_exporter": "python",
   "pygments_lexer": "ipython3",
   "version": "3.7.7"
  }
 },
 "nbformat": 4,
 "nbformat_minor": 4
}
