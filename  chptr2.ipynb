{
 "cells": [
  {
   "cell_type": "code",
   "execution_count": 10,
   "metadata": {},
   "outputs": [],
   "source": [
    "from collections import defaultdict"
   ]
  },
  {
   "cell_type": "code",
   "execution_count": 1,
   "metadata": {},
   "outputs": [],
   "source": [
    "\"\"\"\n",
    "(...)\n",
    "# defaultdict\n",
    "Trying to count the letters in a doc. One approach would be creating a dictionary in which \n",
    "keys are letters and the values are counts. Checking each letter, we'd increment its count if\n",
    "it's already in the dict, and add it if it's not.\n",
    "\"\"\"\n",
    "\n",
    "# example doc\n",
    "document = \"What am I saying when I say that I say too much?\"\n",
    "letter_counts = {}"
   ]
  },
  {
   "cell_type": "code",
   "execution_count": 2,
   "metadata": {},
   "outputs": [],
   "source": [
    "for letter in document:\n",
    "    if letter in letter_counts:\n",
    "        letter_counts[letter] += 1\n",
    "\n",
    "    else:\n",
    "        letter_counts[letter] = 1"
   ]
  },
  {
   "cell_type": "code",
   "execution_count": 3,
   "metadata": {},
   "outputs": [
    {
     "data": {
      "text/plain": [
       "{'W': 1,\n",
       " 'h': 4,\n",
       " 'a': 6,\n",
       " 't': 4,\n",
       " ' ': 11,\n",
       " 'm': 2,\n",
       " 'I': 3,\n",
       " 's': 3,\n",
       " 'y': 3,\n",
       " 'i': 1,\n",
       " 'n': 2,\n",
       " 'g': 1,\n",
       " 'w': 1,\n",
       " 'e': 1,\n",
       " 'o': 2,\n",
       " 'u': 1,\n",
       " 'c': 1,\n",
       " '?': 1}"
      ]
     },
     "execution_count": 3,
     "metadata": {},
     "output_type": "execute_result"
    }
   ],
   "source": [
    "letter_counts"
   ]
  },
  {
   "cell_type": "code",
   "execution_count": 4,
   "metadata": {},
   "outputs": [],
   "source": [
    "# 'Forgiveness better than permission' approach (just handle the exception):\n",
    "letter_counts = {}\n",
    "\n",
    "for letter in document:\n",
    "    try:\n",
    "        letter_counts[letter] += 1\n",
    "    except KeyError:\n",
    "        letter_counts[letter] = 1"
   ]
  },
  {
   "cell_type": "code",
   "execution_count": 5,
   "metadata": {},
   "outputs": [
    {
     "data": {
      "text/plain": [
       "{'W': 1,\n",
       " 'h': 4,\n",
       " 'a': 6,\n",
       " 't': 4,\n",
       " ' ': 11,\n",
       " 'm': 2,\n",
       " 'I': 3,\n",
       " 's': 3,\n",
       " 'y': 3,\n",
       " 'i': 1,\n",
       " 'n': 2,\n",
       " 'g': 1,\n",
       " 'w': 1,\n",
       " 'e': 1,\n",
       " 'o': 2,\n",
       " 'u': 1,\n",
       " 'c': 1,\n",
       " '?': 1}"
      ]
     },
     "execution_count": 5,
     "metadata": {},
     "output_type": "execute_result"
    }
   ],
   "source": [
    "letter_counts"
   ]
  },
  {
   "cell_type": "code",
   "execution_count": 6,
   "metadata": {},
   "outputs": [],
   "source": [
    "# the 'get' approach (behaves gracefully for missing keys):\n",
    "letter_counts = {}\n",
    "\n",
    "for letter in document:\n",
    "    previous_count = letter_counts.get(letter, 0)\n",
    "    letter_counts[letter] = previous_count + 1"
   ]
  },
  {
   "cell_type": "code",
   "execution_count": 7,
   "metadata": {},
   "outputs": [
    {
     "data": {
      "text/plain": [
       "{'W': 1,\n",
       " 'h': 4,\n",
       " 'a': 6,\n",
       " 't': 4,\n",
       " ' ': 11,\n",
       " 'm': 2,\n",
       " 'I': 3,\n",
       " 's': 3,\n",
       " 'y': 3,\n",
       " 'i': 1,\n",
       " 'n': 2,\n",
       " 'g': 1,\n",
       " 'w': 1,\n",
       " 'e': 1,\n",
       " 'o': 2,\n",
       " 'u': 1,\n",
       " 'c': 1,\n",
       " '?': 1}"
      ]
     },
     "execution_count": 7,
     "metadata": {},
     "output_type": "execute_result"
    }
   ],
   "source": [
    "letter_counts"
   ]
  },
  {
   "cell_type": "code",
   "execution_count": 8,
   "metadata": {},
   "outputs": [
    {
     "data": {
      "text/plain": [
       "\"\\nEveryone of the previous solutions is slightly unwieldy, which is why defaultdict is useful. \\nIt's like a regular dict, except that when you try to look up a key it doesn't contain, it \\nfirst addds a value for it using a zero-argument function you provided when creating it.\\n\""
      ]
     },
     "execution_count": 8,
     "metadata": {},
     "output_type": "execute_result"
    }
   ],
   "source": [
    "\"\"\"\n",
    "Everyone of the previous solutions is slightly unwieldy, which is why defaultdict is useful. \n",
    "It's like a regular dict, except that when you try to look up a key it doesn't contain, it \n",
    "first addds a value for it using a zero-argument function you provided when creating it.\n",
    "\"\"\""
   ]
  },
  {
   "cell_type": "code",
   "execution_count": 11,
   "metadata": {},
   "outputs": [],
   "source": [
    "letter_counts = defaultdict(int) # int() produces 0"
   ]
  },
  {
   "cell_type": "code",
   "execution_count": 14,
   "metadata": {},
   "outputs": [],
   "source": [
    "for letter in document:\n",
    "    letter_counts[letter] += 1"
   ]
  },
  {
   "cell_type": "code",
   "execution_count": 15,
   "metadata": {},
   "outputs": [
    {
     "data": {
      "text/plain": [
       "defaultdict(int,\n",
       "            {'W': 1,\n",
       "             'h': 4,\n",
       "             'a': 6,\n",
       "             't': 4,\n",
       "             ' ': 11,\n",
       "             'm': 2,\n",
       "             'I': 3,\n",
       "             's': 3,\n",
       "             'y': 3,\n",
       "             'i': 1,\n",
       "             'n': 2,\n",
       "             'g': 1,\n",
       "             'w': 1,\n",
       "             'e': 1,\n",
       "             'o': 2,\n",
       "             'u': 1,\n",
       "             'c': 1,\n",
       "             '?': 1})"
      ]
     },
     "execution_count": 15,
     "metadata": {},
     "output_type": "execute_result"
    }
   ],
   "source": [
    "letter_counts"
   ]
  },
  {
   "cell_type": "code",
   "execution_count": 17,
   "metadata": {},
   "outputs": [],
   "source": [
    "# W/lists or dict or our own functions:\n",
    "dd_list = defaultdict(list) # list() produces an empty list"
   ]
  },
  {
   "cell_type": "code",
   "execution_count": 18,
   "metadata": {},
   "outputs": [
    {
     "data": {
      "text/plain": [
       "defaultdict(list, {})"
      ]
     },
     "execution_count": 18,
     "metadata": {},
     "output_type": "execute_result"
    }
   ],
   "source": [
    "dd_list"
   ]
  },
  {
   "cell_type": "code",
   "execution_count": 19,
   "metadata": {},
   "outputs": [],
   "source": [
    "dd_list[2].append(1) # now dd_list contains {2: [1]}"
   ]
  },
  {
   "cell_type": "code",
   "execution_count": 20,
   "metadata": {},
   "outputs": [
    {
     "data": {
      "text/plain": [
       "defaultdict(list, {2: [1]})"
      ]
     },
     "execution_count": 20,
     "metadata": {},
     "output_type": "execute_result"
    }
   ],
   "source": [
    "dd_list"
   ]
  },
  {
   "cell_type": "code",
   "execution_count": 21,
   "metadata": {},
   "outputs": [],
   "source": [
    "dd_dict = defaultdict(dict) # dict() produces an empty dict"
   ]
  },
  {
   "cell_type": "code",
   "execution_count": 22,
   "metadata": {},
   "outputs": [
    {
     "data": {
      "text/plain": [
       "defaultdict(dict, {})"
      ]
     },
     "execution_count": 22,
     "metadata": {},
     "output_type": "execute_result"
    }
   ],
   "source": [
    "dd_dict"
   ]
  },
  {
   "cell_type": "code",
   "execution_count": 23,
   "metadata": {},
   "outputs": [],
   "source": [
    "dd_dict[\"Joel\"][\"City\"] = \"Seattle\" # {\"Joel\": {\"City\": \"Seattle\"}}"
   ]
  },
  {
   "cell_type": "code",
   "execution_count": 24,
   "metadata": {},
   "outputs": [
    {
     "data": {
      "text/plain": [
       "defaultdict(dict, {'Joel': {'City': 'Seattle'}})"
      ]
     },
     "execution_count": 24,
     "metadata": {},
     "output_type": "execute_result"
    }
   ],
   "source": [
    "dd_dict"
   ]
  },
  {
   "cell_type": "code",
   "execution_count": 25,
   "metadata": {},
   "outputs": [],
   "source": [
    "dd_pair = defaultdict(lambda: [0, 0])"
   ]
  },
  {
   "cell_type": "code",
   "execution_count": 26,
   "metadata": {},
   "outputs": [
    {
     "data": {
      "text/plain": [
       "defaultdict(<function __main__.<lambda>()>, {})"
      ]
     },
     "execution_count": 26,
     "metadata": {},
     "output_type": "execute_result"
    }
   ],
   "source": [
    "dd_pair"
   ]
  },
  {
   "cell_type": "code",
   "execution_count": 28,
   "metadata": {},
   "outputs": [],
   "source": [
    "dd_pair[2][1] = 1 # now dd_pair contains {2: [0, 1]}"
   ]
  },
  {
   "cell_type": "code",
   "execution_count": 29,
   "metadata": {},
   "outputs": [
    {
     "data": {
      "text/plain": [
       "defaultdict(<function __main__.<lambda>()>, {2: [0, 1]})"
      ]
     },
     "execution_count": 29,
     "metadata": {},
     "output_type": "execute_result"
    }
   ],
   "source": [
    "dd_pair"
   ]
  },
  {
   "cell_type": "code",
   "execution_count": null,
   "metadata": {},
   "outputs": [],
   "source": [
    "# These will be very useful when we're using dictionaries to 'collect' results by some keys\n",
    "# and don't want to have to check if the key exists yet."
   ]
  },
  {
   "cell_type": "code",
   "execution_count": null,
   "metadata": {},
   "outputs": [],
   "source": [
    "\"\"\"\n",
    "\n",
    "\"\"\""
   ]
  }
 ],
 "metadata": {
  "kernelspec": {
   "display_name": "Python 3",
   "language": "python",
   "name": "python3"
  },
  "language_info": {
   "codemirror_mode": {
    "name": "ipython",
    "version": 3
   },
   "file_extension": ".py",
   "mimetype": "text/x-python",
   "name": "python",
   "nbconvert_exporter": "python",
   "pygments_lexer": "ipython3",
   "version": "3.7.7"
  }
 },
 "nbformat": 4,
 "nbformat_minor": 4
}
